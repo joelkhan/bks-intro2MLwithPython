{
 "cells": [
  {
   "cell_type": "code",
   "execution_count": 1,
   "metadata": {
    "hide_input": false
   },
   "outputs": [],
   "source": [
    "from preamble import *\n",
    "%matplotlib inline"
   ]
  },
  {
   "cell_type": "markdown",
   "metadata": {
    "hide_input": false
   },
   "source": [
    "## Introduction\n",
    "### Why Machine Learning?\n",
    "#### Problems Machine Learning Can Solve"
   ]
  },
  {
   "cell_type": "markdown",
   "metadata": {},
   "source": [
    "#### Knowing Your Task and Knowing Your Data"
   ]
  },
  {
   "cell_type": "markdown",
   "metadata": {},
   "source": [
    "### Why Python?"
   ]
  },
  {
   "cell_type": "markdown",
   "metadata": {},
   "source": [
    "### scikit-learn\n",
    "#### Installing scikit-learn"
   ]
  },
  {
   "cell_type": "markdown",
   "metadata": {},
   "source": [
    "### Essential Libraries and Tools"
   ]
  },
  {
   "cell_type": "markdown",
   "metadata": {},
   "source": [
    "#### Jupyter Notebook"
   ]
  },
  {
   "cell_type": "markdown",
   "metadata": {},
   "source": [
    "#### NumPy"
   ]
  },
  {
   "cell_type": "code",
   "execution_count": 2,
   "metadata": {
    "uuid": "e2b8e959-75f0-4fa9-a878-5ab024f89223"
   },
   "outputs": [
    {
     "name": "stdout",
     "output_type": "stream",
     "text": [
      "x:\n",
      "[[1 2 3]\n",
      " [4 5 6]]\n"
     ]
    }
   ],
   "source": [
    "import numpy as np\n",
    "\n",
    "x = np.array([[1, 2, 3], [4, 5, 6]])\n",
    "print(\"x:\\n{}\".format(x))"
   ]
  },
  {
   "cell_type": "markdown",
   "metadata": {},
   "source": [
    "#### SciPy"
   ]
  },
  {
   "cell_type": "code",
   "execution_count": 3,
   "metadata": {},
   "outputs": [
    {
     "name": "stdout",
     "output_type": "stream",
     "text": [
      "NumPy array:\n",
      " [[1. 0. 0. 0.]\n",
      " [0. 1. 0. 0.]\n",
      " [0. 0. 1. 0.]\n",
      " [0. 0. 0. 1.]]\n"
     ]
    }
   ],
   "source": [
    "from scipy import sparse\n",
    "\n",
    "# Create a 2D NumPy array with a diagonal of ones, and zeros everywhere else\n",
    "eye = np.eye(4)\n",
    "print(\"NumPy array:\\n\", eye)"
   ]
  },
  {
   "cell_type": "code",
   "execution_count": 4,
   "metadata": {},
   "outputs": [
    {
     "name": "stdout",
     "output_type": "stream",
     "text": [
      "\n",
      "SciPy sparse CSR matrix:\n",
      "   (0, 0)\t1.0\n",
      "  (1, 1)\t1.0\n",
      "  (2, 2)\t1.0\n",
      "  (3, 3)\t1.0\n"
     ]
    }
   ],
   "source": [
    "# Convert the NumPy array to a SciPy sparse matrix in CSR format\n",
    "# Only the nonzero entries are stored\n",
    "sparse_matrix = sparse.csr_matrix(eye)\n",
    "print(\"\\nSciPy sparse CSR matrix:\\n\", sparse_matrix)"
   ]
  },
  {
   "cell_type": "code",
   "execution_count": 5,
   "metadata": {},
   "outputs": [
    {
     "name": "stdout",
     "output_type": "stream",
     "text": [
      "COO representation:\n",
      "   (0, 0)\t1.0\n",
      "  (1, 1)\t1.0\n",
      "  (2, 2)\t1.0\n",
      "  (3, 3)\t1.0\n"
     ]
    }
   ],
   "source": [
    "data = np.ones(4)\n",
    "row_indices = np.arange(4)\n",
    "col_indices = np.arange(4)\n",
    "eye_coo = sparse.coo_matrix((data, (row_indices, col_indices)))\n",
    "print(\"COO representation:\\n\", eye_coo)"
   ]
  },
  {
   "cell_type": "markdown",
   "metadata": {},
   "source": [
    "#### matplotlib"
   ]
  },
  {
   "cell_type": "code",
   "execution_count": 1,
   "metadata": {
    "uuid": "30faf136-0ef7-4762-bd82-3795eea323d0"
   },
   "outputs": [
    {
     "data": {
      "application/javascript": [
       "/* Put everything inside the global mpl namespace */\n",
       "/* global mpl */\n",
       "window.mpl = {};\n",
       "\n",
       "mpl.get_websocket_type = function () {\n",
       "    if (typeof WebSocket !== 'undefined') {\n",
       "        return WebSocket;\n",
       "    } else if (typeof MozWebSocket !== 'undefined') {\n",
       "        return MozWebSocket;\n",
       "    } else {\n",
       "        alert(\n",
       "            'Your browser does not have WebSocket support. ' +\n",
       "                'Please try Chrome, Safari or Firefox ≥ 6. ' +\n",
       "                'Firefox 4 and 5 are also supported but you ' +\n",
       "                'have to enable WebSockets in about:config.'\n",
       "        );\n",
       "    }\n",
       "};\n",
       "\n",
       "mpl.figure = function (figure_id, websocket, ondownload, parent_element) {\n",
       "    this.id = figure_id;\n",
       "\n",
       "    this.ws = websocket;\n",
       "\n",
       "    this.supports_binary = this.ws.binaryType !== undefined;\n",
       "\n",
       "    if (!this.supports_binary) {\n",
       "        var warnings = document.getElementById('mpl-warnings');\n",
       "        if (warnings) {\n",
       "            warnings.style.display = 'block';\n",
       "            warnings.textContent =\n",
       "                'This browser does not support binary websocket messages. ' +\n",
       "                'Performance may be slow.';\n",
       "        }\n",
       "    }\n",
       "\n",
       "    this.imageObj = new Image();\n",
       "\n",
       "    this.context = undefined;\n",
       "    this.message = undefined;\n",
       "    this.canvas = undefined;\n",
       "    this.rubberband_canvas = undefined;\n",
       "    this.rubberband_context = undefined;\n",
       "    this.format_dropdown = undefined;\n",
       "\n",
       "    this.image_mode = 'full';\n",
       "\n",
       "    this.root = document.createElement('div');\n",
       "    this.root.setAttribute('style', 'display: inline-block');\n",
       "    this._root_extra_style(this.root);\n",
       "\n",
       "    parent_element.appendChild(this.root);\n",
       "\n",
       "    this._init_header(this);\n",
       "    this._init_canvas(this);\n",
       "    this._init_toolbar(this);\n",
       "\n",
       "    var fig = this;\n",
       "\n",
       "    this.waiting = false;\n",
       "\n",
       "    this.ws.onopen = function () {\n",
       "        fig.send_message('supports_binary', { value: fig.supports_binary });\n",
       "        fig.send_message('send_image_mode', {});\n",
       "        if (fig.ratio !== 1) {\n",
       "            fig.send_message('set_dpi_ratio', { dpi_ratio: fig.ratio });\n",
       "        }\n",
       "        fig.send_message('refresh', {});\n",
       "    };\n",
       "\n",
       "    this.imageObj.onload = function () {\n",
       "        if (fig.image_mode === 'full') {\n",
       "            // Full images could contain transparency (where diff images\n",
       "            // almost always do), so we need to clear the canvas so that\n",
       "            // there is no ghosting.\n",
       "            fig.context.clearRect(0, 0, fig.canvas.width, fig.canvas.height);\n",
       "        }\n",
       "        fig.context.drawImage(fig.imageObj, 0, 0);\n",
       "    };\n",
       "\n",
       "    this.imageObj.onunload = function () {\n",
       "        fig.ws.close();\n",
       "    };\n",
       "\n",
       "    this.ws.onmessage = this._make_on_message_function(this);\n",
       "\n",
       "    this.ondownload = ondownload;\n",
       "};\n",
       "\n",
       "mpl.figure.prototype._init_header = function () {\n",
       "    var titlebar = document.createElement('div');\n",
       "    titlebar.classList =\n",
       "        'ui-dialog-titlebar ui-widget-header ui-corner-all ui-helper-clearfix';\n",
       "    var titletext = document.createElement('div');\n",
       "    titletext.classList = 'ui-dialog-title';\n",
       "    titletext.setAttribute(\n",
       "        'style',\n",
       "        'width: 100%; text-align: center; padding: 3px;'\n",
       "    );\n",
       "    titlebar.appendChild(titletext);\n",
       "    this.root.appendChild(titlebar);\n",
       "    this.header = titletext;\n",
       "};\n",
       "\n",
       "mpl.figure.prototype._canvas_extra_style = function (_canvas_div) {};\n",
       "\n",
       "mpl.figure.prototype._root_extra_style = function (_canvas_div) {};\n",
       "\n",
       "mpl.figure.prototype._init_canvas = function () {\n",
       "    var fig = this;\n",
       "\n",
       "    var canvas_div = (this.canvas_div = document.createElement('div'));\n",
       "    canvas_div.setAttribute(\n",
       "        'style',\n",
       "        'border: 1px solid #ddd;' +\n",
       "            'box-sizing: content-box;' +\n",
       "            'clear: both;' +\n",
       "            'min-height: 1px;' +\n",
       "            'min-width: 1px;' +\n",
       "            'outline: 0;' +\n",
       "            'overflow: hidden;' +\n",
       "            'position: relative;' +\n",
       "            'resize: both;'\n",
       "    );\n",
       "\n",
       "    function on_keyboard_event_closure(name) {\n",
       "        return function (event) {\n",
       "            return fig.key_event(event, name);\n",
       "        };\n",
       "    }\n",
       "\n",
       "    canvas_div.addEventListener(\n",
       "        'keydown',\n",
       "        on_keyboard_event_closure('key_press')\n",
       "    );\n",
       "    canvas_div.addEventListener(\n",
       "        'keyup',\n",
       "        on_keyboard_event_closure('key_release')\n",
       "    );\n",
       "\n",
       "    this._canvas_extra_style(canvas_div);\n",
       "    this.root.appendChild(canvas_div);\n",
       "\n",
       "    var canvas = (this.canvas = document.createElement('canvas'));\n",
       "    canvas.classList.add('mpl-canvas');\n",
       "    canvas.setAttribute('style', 'box-sizing: content-box;');\n",
       "\n",
       "    this.context = canvas.getContext('2d');\n",
       "\n",
       "    var backingStore =\n",
       "        this.context.backingStorePixelRatio ||\n",
       "        this.context.webkitBackingStorePixelRatio ||\n",
       "        this.context.mozBackingStorePixelRatio ||\n",
       "        this.context.msBackingStorePixelRatio ||\n",
       "        this.context.oBackingStorePixelRatio ||\n",
       "        this.context.backingStorePixelRatio ||\n",
       "        1;\n",
       "\n",
       "    this.ratio = (window.devicePixelRatio || 1) / backingStore;\n",
       "\n",
       "    var rubberband_canvas = (this.rubberband_canvas = document.createElement(\n",
       "        'canvas'\n",
       "    ));\n",
       "    rubberband_canvas.setAttribute(\n",
       "        'style',\n",
       "        'box-sizing: content-box; position: absolute; left: 0; top: 0; z-index: 1;'\n",
       "    );\n",
       "\n",
       "    // Apply a ponyfill if ResizeObserver is not implemented by browser.\n",
       "    if (this.ResizeObserver === undefined) {\n",
       "        if (window.ResizeObserver !== undefined) {\n",
       "            this.ResizeObserver = window.ResizeObserver;\n",
       "        } else {\n",
       "            var obs = _JSXTOOLS_RESIZE_OBSERVER({});\n",
       "            this.ResizeObserver = obs.ResizeObserver;\n",
       "        }\n",
       "    }\n",
       "\n",
       "    this.resizeObserverInstance = new this.ResizeObserver(function (entries) {\n",
       "        var nentries = entries.length;\n",
       "        for (var i = 0; i < nentries; i++) {\n",
       "            var entry = entries[i];\n",
       "            var width, height;\n",
       "            if (entry.contentBoxSize) {\n",
       "                if (entry.contentBoxSize instanceof Array) {\n",
       "                    // Chrome 84 implements new version of spec.\n",
       "                    width = entry.contentBoxSize[0].inlineSize;\n",
       "                    height = entry.contentBoxSize[0].blockSize;\n",
       "                } else {\n",
       "                    // Firefox implements old version of spec.\n",
       "                    width = entry.contentBoxSize.inlineSize;\n",
       "                    height = entry.contentBoxSize.blockSize;\n",
       "                }\n",
       "            } else {\n",
       "                // Chrome <84 implements even older version of spec.\n",
       "                width = entry.contentRect.width;\n",
       "                height = entry.contentRect.height;\n",
       "            }\n",
       "\n",
       "            // Keep the size of the canvas and rubber band canvas in sync with\n",
       "            // the canvas container.\n",
       "            if (entry.devicePixelContentBoxSize) {\n",
       "                // Chrome 84 implements new version of spec.\n",
       "                canvas.setAttribute(\n",
       "                    'width',\n",
       "                    entry.devicePixelContentBoxSize[0].inlineSize\n",
       "                );\n",
       "                canvas.setAttribute(\n",
       "                    'height',\n",
       "                    entry.devicePixelContentBoxSize[0].blockSize\n",
       "                );\n",
       "            } else {\n",
       "                canvas.setAttribute('width', width * fig.ratio);\n",
       "                canvas.setAttribute('height', height * fig.ratio);\n",
       "            }\n",
       "            canvas.setAttribute(\n",
       "                'style',\n",
       "                'width: ' + width + 'px; height: ' + height + 'px;'\n",
       "            );\n",
       "\n",
       "            rubberband_canvas.setAttribute('width', width);\n",
       "            rubberband_canvas.setAttribute('height', height);\n",
       "\n",
       "            // And update the size in Python. We ignore the initial 0/0 size\n",
       "            // that occurs as the element is placed into the DOM, which should\n",
       "            // otherwise not happen due to the minimum size styling.\n",
       "            if (fig.ws.readyState == 1 && width != 0 && height != 0) {\n",
       "                fig.request_resize(width, height);\n",
       "            }\n",
       "        }\n",
       "    });\n",
       "    this.resizeObserverInstance.observe(canvas_div);\n",
       "\n",
       "    function on_mouse_event_closure(name) {\n",
       "        return function (event) {\n",
       "            return fig.mouse_event(event, name);\n",
       "        };\n",
       "    }\n",
       "\n",
       "    rubberband_canvas.addEventListener(\n",
       "        'mousedown',\n",
       "        on_mouse_event_closure('button_press')\n",
       "    );\n",
       "    rubberband_canvas.addEventListener(\n",
       "        'mouseup',\n",
       "        on_mouse_event_closure('button_release')\n",
       "    );\n",
       "    // Throttle sequential mouse events to 1 every 20ms.\n",
       "    rubberband_canvas.addEventListener(\n",
       "        'mousemove',\n",
       "        on_mouse_event_closure('motion_notify')\n",
       "    );\n",
       "\n",
       "    rubberband_canvas.addEventListener(\n",
       "        'mouseenter',\n",
       "        on_mouse_event_closure('figure_enter')\n",
       "    );\n",
       "    rubberband_canvas.addEventListener(\n",
       "        'mouseleave',\n",
       "        on_mouse_event_closure('figure_leave')\n",
       "    );\n",
       "\n",
       "    canvas_div.addEventListener('wheel', function (event) {\n",
       "        if (event.deltaY < 0) {\n",
       "            event.step = 1;\n",
       "        } else {\n",
       "            event.step = -1;\n",
       "        }\n",
       "        on_mouse_event_closure('scroll')(event);\n",
       "    });\n",
       "\n",
       "    canvas_div.appendChild(canvas);\n",
       "    canvas_div.appendChild(rubberband_canvas);\n",
       "\n",
       "    this.rubberband_context = rubberband_canvas.getContext('2d');\n",
       "    this.rubberband_context.strokeStyle = '#000000';\n",
       "\n",
       "    this._resize_canvas = function (width, height, forward) {\n",
       "        if (forward) {\n",
       "            canvas_div.style.width = width + 'px';\n",
       "            canvas_div.style.height = height + 'px';\n",
       "        }\n",
       "    };\n",
       "\n",
       "    // Disable right mouse context menu.\n",
       "    this.rubberband_canvas.addEventListener('contextmenu', function (_e) {\n",
       "        event.preventDefault();\n",
       "        return false;\n",
       "    });\n",
       "\n",
       "    function set_focus() {\n",
       "        canvas.focus();\n",
       "        canvas_div.focus();\n",
       "    }\n",
       "\n",
       "    window.setTimeout(set_focus, 100);\n",
       "};\n",
       "\n",
       "mpl.figure.prototype._init_toolbar = function () {\n",
       "    var fig = this;\n",
       "\n",
       "    var toolbar = document.createElement('div');\n",
       "    toolbar.classList = 'mpl-toolbar';\n",
       "    this.root.appendChild(toolbar);\n",
       "\n",
       "    function on_click_closure(name) {\n",
       "        return function (_event) {\n",
       "            return fig.toolbar_button_onclick(name);\n",
       "        };\n",
       "    }\n",
       "\n",
       "    function on_mouseover_closure(tooltip) {\n",
       "        return function (event) {\n",
       "            if (!event.currentTarget.disabled) {\n",
       "                return fig.toolbar_button_onmouseover(tooltip);\n",
       "            }\n",
       "        };\n",
       "    }\n",
       "\n",
       "    fig.buttons = {};\n",
       "    var buttonGroup = document.createElement('div');\n",
       "    buttonGroup.classList = 'mpl-button-group';\n",
       "    for (var toolbar_ind in mpl.toolbar_items) {\n",
       "        var name = mpl.toolbar_items[toolbar_ind][0];\n",
       "        var tooltip = mpl.toolbar_items[toolbar_ind][1];\n",
       "        var image = mpl.toolbar_items[toolbar_ind][2];\n",
       "        var method_name = mpl.toolbar_items[toolbar_ind][3];\n",
       "\n",
       "        if (!name) {\n",
       "            /* Instead of a spacer, we start a new button group. */\n",
       "            if (buttonGroup.hasChildNodes()) {\n",
       "                toolbar.appendChild(buttonGroup);\n",
       "            }\n",
       "            buttonGroup = document.createElement('div');\n",
       "            buttonGroup.classList = 'mpl-button-group';\n",
       "            continue;\n",
       "        }\n",
       "\n",
       "        var button = (fig.buttons[name] = document.createElement('button'));\n",
       "        button.classList = 'mpl-widget';\n",
       "        button.setAttribute('role', 'button');\n",
       "        button.setAttribute('aria-disabled', 'false');\n",
       "        button.addEventListener('click', on_click_closure(method_name));\n",
       "        button.addEventListener('mouseover', on_mouseover_closure(tooltip));\n",
       "\n",
       "        var icon_img = document.createElement('img');\n",
       "        icon_img.src = '_images/' + image + '.png';\n",
       "        icon_img.srcset = '_images/' + image + '_large.png 2x';\n",
       "        icon_img.alt = tooltip;\n",
       "        button.appendChild(icon_img);\n",
       "\n",
       "        buttonGroup.appendChild(button);\n",
       "    }\n",
       "\n",
       "    if (buttonGroup.hasChildNodes()) {\n",
       "        toolbar.appendChild(buttonGroup);\n",
       "    }\n",
       "\n",
       "    var fmt_picker = document.createElement('select');\n",
       "    fmt_picker.classList = 'mpl-widget';\n",
       "    toolbar.appendChild(fmt_picker);\n",
       "    this.format_dropdown = fmt_picker;\n",
       "\n",
       "    for (var ind in mpl.extensions) {\n",
       "        var fmt = mpl.extensions[ind];\n",
       "        var option = document.createElement('option');\n",
       "        option.selected = fmt === mpl.default_extension;\n",
       "        option.innerHTML = fmt;\n",
       "        fmt_picker.appendChild(option);\n",
       "    }\n",
       "\n",
       "    var status_bar = document.createElement('span');\n",
       "    status_bar.classList = 'mpl-message';\n",
       "    toolbar.appendChild(status_bar);\n",
       "    this.message = status_bar;\n",
       "};\n",
       "\n",
       "mpl.figure.prototype.request_resize = function (x_pixels, y_pixels) {\n",
       "    // Request matplotlib to resize the figure. Matplotlib will then trigger a resize in the client,\n",
       "    // which will in turn request a refresh of the image.\n",
       "    this.send_message('resize', { width: x_pixels, height: y_pixels });\n",
       "};\n",
       "\n",
       "mpl.figure.prototype.send_message = function (type, properties) {\n",
       "    properties['type'] = type;\n",
       "    properties['figure_id'] = this.id;\n",
       "    this.ws.send(JSON.stringify(properties));\n",
       "};\n",
       "\n",
       "mpl.figure.prototype.send_draw_message = function () {\n",
       "    if (!this.waiting) {\n",
       "        this.waiting = true;\n",
       "        this.ws.send(JSON.stringify({ type: 'draw', figure_id: this.id }));\n",
       "    }\n",
       "};\n",
       "\n",
       "mpl.figure.prototype.handle_save = function (fig, _msg) {\n",
       "    var format_dropdown = fig.format_dropdown;\n",
       "    var format = format_dropdown.options[format_dropdown.selectedIndex].value;\n",
       "    fig.ondownload(fig, format);\n",
       "};\n",
       "\n",
       "mpl.figure.prototype.handle_resize = function (fig, msg) {\n",
       "    var size = msg['size'];\n",
       "    if (size[0] !== fig.canvas.width || size[1] !== fig.canvas.height) {\n",
       "        fig._resize_canvas(size[0], size[1], msg['forward']);\n",
       "        fig.send_message('refresh', {});\n",
       "    }\n",
       "};\n",
       "\n",
       "mpl.figure.prototype.handle_rubberband = function (fig, msg) {\n",
       "    var x0 = msg['x0'] / fig.ratio;\n",
       "    var y0 = (fig.canvas.height - msg['y0']) / fig.ratio;\n",
       "    var x1 = msg['x1'] / fig.ratio;\n",
       "    var y1 = (fig.canvas.height - msg['y1']) / fig.ratio;\n",
       "    x0 = Math.floor(x0) + 0.5;\n",
       "    y0 = Math.floor(y0) + 0.5;\n",
       "    x1 = Math.floor(x1) + 0.5;\n",
       "    y1 = Math.floor(y1) + 0.5;\n",
       "    var min_x = Math.min(x0, x1);\n",
       "    var min_y = Math.min(y0, y1);\n",
       "    var width = Math.abs(x1 - x0);\n",
       "    var height = Math.abs(y1 - y0);\n",
       "\n",
       "    fig.rubberband_context.clearRect(\n",
       "        0,\n",
       "        0,\n",
       "        fig.canvas.width / fig.ratio,\n",
       "        fig.canvas.height / fig.ratio\n",
       "    );\n",
       "\n",
       "    fig.rubberband_context.strokeRect(min_x, min_y, width, height);\n",
       "};\n",
       "\n",
       "mpl.figure.prototype.handle_figure_label = function (fig, msg) {\n",
       "    // Updates the figure title.\n",
       "    fig.header.textContent = msg['label'];\n",
       "};\n",
       "\n",
       "mpl.figure.prototype.handle_cursor = function (fig, msg) {\n",
       "    var cursor = msg['cursor'];\n",
       "    switch (cursor) {\n",
       "        case 0:\n",
       "            cursor = 'pointer';\n",
       "            break;\n",
       "        case 1:\n",
       "            cursor = 'default';\n",
       "            break;\n",
       "        case 2:\n",
       "            cursor = 'crosshair';\n",
       "            break;\n",
       "        case 3:\n",
       "            cursor = 'move';\n",
       "            break;\n",
       "    }\n",
       "    fig.rubberband_canvas.style.cursor = cursor;\n",
       "};\n",
       "\n",
       "mpl.figure.prototype.handle_message = function (fig, msg) {\n",
       "    fig.message.textContent = msg['message'];\n",
       "};\n",
       "\n",
       "mpl.figure.prototype.handle_draw = function (fig, _msg) {\n",
       "    // Request the server to send over a new figure.\n",
       "    fig.send_draw_message();\n",
       "};\n",
       "\n",
       "mpl.figure.prototype.handle_image_mode = function (fig, msg) {\n",
       "    fig.image_mode = msg['mode'];\n",
       "};\n",
       "\n",
       "mpl.figure.prototype.handle_history_buttons = function (fig, msg) {\n",
       "    for (var key in msg) {\n",
       "        if (!(key in fig.buttons)) {\n",
       "            continue;\n",
       "        }\n",
       "        fig.buttons[key].disabled = !msg[key];\n",
       "        fig.buttons[key].setAttribute('aria-disabled', !msg[key]);\n",
       "    }\n",
       "};\n",
       "\n",
       "mpl.figure.prototype.handle_navigate_mode = function (fig, msg) {\n",
       "    if (msg['mode'] === 'PAN') {\n",
       "        fig.buttons['Pan'].classList.add('active');\n",
       "        fig.buttons['Zoom'].classList.remove('active');\n",
       "    } else if (msg['mode'] === 'ZOOM') {\n",
       "        fig.buttons['Pan'].classList.remove('active');\n",
       "        fig.buttons['Zoom'].classList.add('active');\n",
       "    } else {\n",
       "        fig.buttons['Pan'].classList.remove('active');\n",
       "        fig.buttons['Zoom'].classList.remove('active');\n",
       "    }\n",
       "};\n",
       "\n",
       "mpl.figure.prototype.updated_canvas_event = function () {\n",
       "    // Called whenever the canvas gets updated.\n",
       "    this.send_message('ack', {});\n",
       "};\n",
       "\n",
       "// A function to construct a web socket function for onmessage handling.\n",
       "// Called in the figure constructor.\n",
       "mpl.figure.prototype._make_on_message_function = function (fig) {\n",
       "    return function socket_on_message(evt) {\n",
       "        if (evt.data instanceof Blob) {\n",
       "            /* FIXME: We get \"Resource interpreted as Image but\n",
       "             * transferred with MIME type text/plain:\" errors on\n",
       "             * Chrome.  But how to set the MIME type?  It doesn't seem\n",
       "             * to be part of the websocket stream */\n",
       "            evt.data.type = 'image/png';\n",
       "\n",
       "            /* Free the memory for the previous frames */\n",
       "            if (fig.imageObj.src) {\n",
       "                (window.URL || window.webkitURL).revokeObjectURL(\n",
       "                    fig.imageObj.src\n",
       "                );\n",
       "            }\n",
       "\n",
       "            fig.imageObj.src = (window.URL || window.webkitURL).createObjectURL(\n",
       "                evt.data\n",
       "            );\n",
       "            fig.updated_canvas_event();\n",
       "            fig.waiting = false;\n",
       "            return;\n",
       "        } else if (\n",
       "            typeof evt.data === 'string' &&\n",
       "            evt.data.slice(0, 21) === 'data:image/png;base64'\n",
       "        ) {\n",
       "            fig.imageObj.src = evt.data;\n",
       "            fig.updated_canvas_event();\n",
       "            fig.waiting = false;\n",
       "            return;\n",
       "        }\n",
       "\n",
       "        var msg = JSON.parse(evt.data);\n",
       "        var msg_type = msg['type'];\n",
       "\n",
       "        // Call the  \"handle_{type}\" callback, which takes\n",
       "        // the figure and JSON message as its only arguments.\n",
       "        try {\n",
       "            var callback = fig['handle_' + msg_type];\n",
       "        } catch (e) {\n",
       "            console.log(\n",
       "                \"No handler for the '\" + msg_type + \"' message type: \",\n",
       "                msg\n",
       "            );\n",
       "            return;\n",
       "        }\n",
       "\n",
       "        if (callback) {\n",
       "            try {\n",
       "                // console.log(\"Handling '\" + msg_type + \"' message: \", msg);\n",
       "                callback(fig, msg);\n",
       "            } catch (e) {\n",
       "                console.log(\n",
       "                    \"Exception inside the 'handler_\" + msg_type + \"' callback:\",\n",
       "                    e,\n",
       "                    e.stack,\n",
       "                    msg\n",
       "                );\n",
       "            }\n",
       "        }\n",
       "    };\n",
       "};\n",
       "\n",
       "// from http://stackoverflow.com/questions/1114465/getting-mouse-location-in-canvas\n",
       "mpl.findpos = function (e) {\n",
       "    //this section is from http://www.quirksmode.org/js/events_properties.html\n",
       "    var targ;\n",
       "    if (!e) {\n",
       "        e = window.event;\n",
       "    }\n",
       "    if (e.target) {\n",
       "        targ = e.target;\n",
       "    } else if (e.srcElement) {\n",
       "        targ = e.srcElement;\n",
       "    }\n",
       "    if (targ.nodeType === 3) {\n",
       "        // defeat Safari bug\n",
       "        targ = targ.parentNode;\n",
       "    }\n",
       "\n",
       "    // pageX,Y are the mouse positions relative to the document\n",
       "    var boundingRect = targ.getBoundingClientRect();\n",
       "    var x = e.pageX - (boundingRect.left + document.body.scrollLeft);\n",
       "    var y = e.pageY - (boundingRect.top + document.body.scrollTop);\n",
       "\n",
       "    return { x: x, y: y };\n",
       "};\n",
       "\n",
       "/*\n",
       " * return a copy of an object with only non-object keys\n",
       " * we need this to avoid circular references\n",
       " * http://stackoverflow.com/a/24161582/3208463\n",
       " */\n",
       "function simpleKeys(original) {\n",
       "    return Object.keys(original).reduce(function (obj, key) {\n",
       "        if (typeof original[key] !== 'object') {\n",
       "            obj[key] = original[key];\n",
       "        }\n",
       "        return obj;\n",
       "    }, {});\n",
       "}\n",
       "\n",
       "mpl.figure.prototype.mouse_event = function (event, name) {\n",
       "    var canvas_pos = mpl.findpos(event);\n",
       "\n",
       "    if (name === 'button_press') {\n",
       "        this.canvas.focus();\n",
       "        this.canvas_div.focus();\n",
       "    }\n",
       "\n",
       "    var x = canvas_pos.x * this.ratio;\n",
       "    var y = canvas_pos.y * this.ratio;\n",
       "\n",
       "    this.send_message(name, {\n",
       "        x: x,\n",
       "        y: y,\n",
       "        button: event.button,\n",
       "        step: event.step,\n",
       "        guiEvent: simpleKeys(event),\n",
       "    });\n",
       "\n",
       "    /* This prevents the web browser from automatically changing to\n",
       "     * the text insertion cursor when the button is pressed.  We want\n",
       "     * to control all of the cursor setting manually through the\n",
       "     * 'cursor' event from matplotlib */\n",
       "    event.preventDefault();\n",
       "    return false;\n",
       "};\n",
       "\n",
       "mpl.figure.prototype._key_event_extra = function (_event, _name) {\n",
       "    // Handle any extra behaviour associated with a key event\n",
       "};\n",
       "\n",
       "mpl.figure.prototype.key_event = function (event, name) {\n",
       "    // Prevent repeat events\n",
       "    if (name === 'key_press') {\n",
       "        if (event.which === this._key) {\n",
       "            return;\n",
       "        } else {\n",
       "            this._key = event.which;\n",
       "        }\n",
       "    }\n",
       "    if (name === 'key_release') {\n",
       "        this._key = null;\n",
       "    }\n",
       "\n",
       "    var value = '';\n",
       "    if (event.ctrlKey && event.which !== 17) {\n",
       "        value += 'ctrl+';\n",
       "    }\n",
       "    if (event.altKey && event.which !== 18) {\n",
       "        value += 'alt+';\n",
       "    }\n",
       "    if (event.shiftKey && event.which !== 16) {\n",
       "        value += 'shift+';\n",
       "    }\n",
       "\n",
       "    value += 'k';\n",
       "    value += event.which.toString();\n",
       "\n",
       "    this._key_event_extra(event, name);\n",
       "\n",
       "    this.send_message(name, { key: value, guiEvent: simpleKeys(event) });\n",
       "    return false;\n",
       "};\n",
       "\n",
       "mpl.figure.prototype.toolbar_button_onclick = function (name) {\n",
       "    if (name === 'download') {\n",
       "        this.handle_save(this, null);\n",
       "    } else {\n",
       "        this.send_message('toolbar_button', { name: name });\n",
       "    }\n",
       "};\n",
       "\n",
       "mpl.figure.prototype.toolbar_button_onmouseover = function (tooltip) {\n",
       "    this.message.textContent = tooltip;\n",
       "};\n",
       "\n",
       "///////////////// REMAINING CONTENT GENERATED BY embed_js.py /////////////////\n",
       "// prettier-ignore\n",
       "var _JSXTOOLS_RESIZE_OBSERVER=function(A){var t,i=new WeakMap,n=new WeakMap,a=new WeakMap,r=new WeakMap,o=new Set;function s(e){if(!(this instanceof s))throw new TypeError(\"Constructor requires 'new' operator\");i.set(this,e)}function h(){throw new TypeError(\"Function is not a constructor\")}function c(e,t,i,n){e=0 in arguments?Number(arguments[0]):0,t=1 in arguments?Number(arguments[1]):0,i=2 in arguments?Number(arguments[2]):0,n=3 in arguments?Number(arguments[3]):0,this.right=(this.x=this.left=e)+(this.width=i),this.bottom=(this.y=this.top=t)+(this.height=n),Object.freeze(this)}function d(){t=requestAnimationFrame(d);var s=new WeakMap,p=new Set;o.forEach((function(t){r.get(t).forEach((function(i){var r=t instanceof window.SVGElement,o=a.get(t),d=r?0:parseFloat(o.paddingTop),f=r?0:parseFloat(o.paddingRight),l=r?0:parseFloat(o.paddingBottom),u=r?0:parseFloat(o.paddingLeft),g=r?0:parseFloat(o.borderTopWidth),m=r?0:parseFloat(o.borderRightWidth),w=r?0:parseFloat(o.borderBottomWidth),b=u+f,F=d+l,v=(r?0:parseFloat(o.borderLeftWidth))+m,W=g+w,y=r?0:t.offsetHeight-W-t.clientHeight,E=r?0:t.offsetWidth-v-t.clientWidth,R=b+v,z=F+W,M=r?t.width:parseFloat(o.width)-R-E,O=r?t.height:parseFloat(o.height)-z-y;if(n.has(t)){var k=n.get(t);if(k[0]===M&&k[1]===O)return}n.set(t,[M,O]);var S=Object.create(h.prototype);S.target=t,S.contentRect=new c(u,d,M,O),s.has(i)||(s.set(i,[]),p.add(i)),s.get(i).push(S)}))})),p.forEach((function(e){i.get(e).call(e,s.get(e),e)}))}return s.prototype.observe=function(i){if(i instanceof window.Element){r.has(i)||(r.set(i,new Set),o.add(i),a.set(i,window.getComputedStyle(i)));var n=r.get(i);n.has(this)||n.add(this),cancelAnimationFrame(t),t=requestAnimationFrame(d)}},s.prototype.unobserve=function(i){if(i instanceof window.Element&&r.has(i)){var n=r.get(i);n.has(this)&&(n.delete(this),n.size||(r.delete(i),o.delete(i))),n.size||r.delete(i),o.size||cancelAnimationFrame(t)}},A.DOMRectReadOnly=c,A.ResizeObserver=s,A.ResizeObserverEntry=h,A}; // eslint-disable-line\n",
       "mpl.toolbar_items = [[\"Home\", \"Reset original view\", \"fa fa-home icon-home\", \"home\"], [\"Back\", \"Back to previous view\", \"fa fa-arrow-left icon-arrow-left\", \"back\"], [\"Forward\", \"Forward to next view\", \"fa fa-arrow-right icon-arrow-right\", \"forward\"], [\"\", \"\", \"\", \"\"], [\"Pan\", \"Left button pans, Right button zooms\\nx/y fixes axis, CTRL fixes aspect\", \"fa fa-arrows icon-move\", \"pan\"], [\"Zoom\", \"Zoom to rectangle\\nx/y fixes axis, CTRL fixes aspect\", \"fa fa-square-o icon-check-empty\", \"zoom\"], [\"\", \"\", \"\", \"\"], [\"Download\", \"Download plot\", \"fa fa-floppy-o icon-save\", \"download\"]];\n",
       "\n",
       "mpl.extensions = [\"eps\", \"jpeg\", \"pdf\", \"png\", \"ps\", \"raw\", \"svg\", \"tif\"];\n",
       "\n",
       "mpl.default_extension = \"png\";/* global mpl */\n",
       "\n",
       "var comm_websocket_adapter = function (comm) {\n",
       "    // Create a \"websocket\"-like object which calls the given IPython comm\n",
       "    // object with the appropriate methods. Currently this is a non binary\n",
       "    // socket, so there is still some room for performance tuning.\n",
       "    var ws = {};\n",
       "\n",
       "    ws.close = function () {\n",
       "        comm.close();\n",
       "    };\n",
       "    ws.send = function (m) {\n",
       "        //console.log('sending', m);\n",
       "        comm.send(m);\n",
       "    };\n",
       "    // Register the callback with on_msg.\n",
       "    comm.on_msg(function (msg) {\n",
       "        //console.log('receiving', msg['content']['data'], msg);\n",
       "        // Pass the mpl event to the overridden (by mpl) onmessage function.\n",
       "        ws.onmessage(msg['content']['data']);\n",
       "    });\n",
       "    return ws;\n",
       "};\n",
       "\n",
       "mpl.mpl_figure_comm = function (comm, msg) {\n",
       "    // This is the function which gets called when the mpl process\n",
       "    // starts-up an IPython Comm through the \"matplotlib\" channel.\n",
       "\n",
       "    var id = msg.content.data.id;\n",
       "    // Get hold of the div created by the display call when the Comm\n",
       "    // socket was opened in Python.\n",
       "    var element = document.getElementById(id);\n",
       "    var ws_proxy = comm_websocket_adapter(comm);\n",
       "\n",
       "    function ondownload(figure, _format) {\n",
       "        window.open(figure.canvas.toDataURL());\n",
       "    }\n",
       "\n",
       "    var fig = new mpl.figure(id, ws_proxy, ondownload, element);\n",
       "\n",
       "    // Call onopen now - mpl needs it, as it is assuming we've passed it a real\n",
       "    // web socket which is closed, not our websocket->open comm proxy.\n",
       "    ws_proxy.onopen();\n",
       "\n",
       "    fig.parent_element = element;\n",
       "    fig.cell_info = mpl.find_output_cell(\"<div id='\" + id + \"'></div>\");\n",
       "    if (!fig.cell_info) {\n",
       "        console.error('Failed to find cell for figure', id, fig);\n",
       "        return;\n",
       "    }\n",
       "    fig.cell_info[0].output_area.element.on(\n",
       "        'cleared',\n",
       "        { fig: fig },\n",
       "        fig._remove_fig_handler\n",
       "    );\n",
       "};\n",
       "\n",
       "mpl.figure.prototype.handle_close = function (fig, msg) {\n",
       "    var width = fig.canvas.width / fig.ratio;\n",
       "    fig.cell_info[0].output_area.element.off(\n",
       "        'cleared',\n",
       "        fig._remove_fig_handler\n",
       "    );\n",
       "    fig.resizeObserverInstance.unobserve(fig.canvas_div);\n",
       "\n",
       "    // Update the output cell to use the data from the current canvas.\n",
       "    fig.push_to_output();\n",
       "    var dataURL = fig.canvas.toDataURL();\n",
       "    // Re-enable the keyboard manager in IPython - without this line, in FF,\n",
       "    // the notebook keyboard shortcuts fail.\n",
       "    IPython.keyboard_manager.enable();\n",
       "    fig.parent_element.innerHTML =\n",
       "        '<img src=\"' + dataURL + '\" width=\"' + width + '\">';\n",
       "    fig.close_ws(fig, msg);\n",
       "};\n",
       "\n",
       "mpl.figure.prototype.close_ws = function (fig, msg) {\n",
       "    fig.send_message('closing', msg);\n",
       "    // fig.ws.close()\n",
       "};\n",
       "\n",
       "mpl.figure.prototype.push_to_output = function (_remove_interactive) {\n",
       "    // Turn the data on the canvas into data in the output cell.\n",
       "    var width = this.canvas.width / this.ratio;\n",
       "    var dataURL = this.canvas.toDataURL();\n",
       "    this.cell_info[1]['text/html'] =\n",
       "        '<img src=\"' + dataURL + '\" width=\"' + width + '\">';\n",
       "};\n",
       "\n",
       "mpl.figure.prototype.updated_canvas_event = function () {\n",
       "    // Tell IPython that the notebook contents must change.\n",
       "    IPython.notebook.set_dirty(true);\n",
       "    this.send_message('ack', {});\n",
       "    var fig = this;\n",
       "    // Wait a second, then push the new image to the DOM so\n",
       "    // that it is saved nicely (might be nice to debounce this).\n",
       "    setTimeout(function () {\n",
       "        fig.push_to_output();\n",
       "    }, 1000);\n",
       "};\n",
       "\n",
       "mpl.figure.prototype._init_toolbar = function () {\n",
       "    var fig = this;\n",
       "\n",
       "    var toolbar = document.createElement('div');\n",
       "    toolbar.classList = 'btn-toolbar';\n",
       "    this.root.appendChild(toolbar);\n",
       "\n",
       "    function on_click_closure(name) {\n",
       "        return function (_event) {\n",
       "            return fig.toolbar_button_onclick(name);\n",
       "        };\n",
       "    }\n",
       "\n",
       "    function on_mouseover_closure(tooltip) {\n",
       "        return function (event) {\n",
       "            if (!event.currentTarget.disabled) {\n",
       "                return fig.toolbar_button_onmouseover(tooltip);\n",
       "            }\n",
       "        };\n",
       "    }\n",
       "\n",
       "    fig.buttons = {};\n",
       "    var buttonGroup = document.createElement('div');\n",
       "    buttonGroup.classList = 'btn-group';\n",
       "    var button;\n",
       "    for (var toolbar_ind in mpl.toolbar_items) {\n",
       "        var name = mpl.toolbar_items[toolbar_ind][0];\n",
       "        var tooltip = mpl.toolbar_items[toolbar_ind][1];\n",
       "        var image = mpl.toolbar_items[toolbar_ind][2];\n",
       "        var method_name = mpl.toolbar_items[toolbar_ind][3];\n",
       "\n",
       "        if (!name) {\n",
       "            /* Instead of a spacer, we start a new button group. */\n",
       "            if (buttonGroup.hasChildNodes()) {\n",
       "                toolbar.appendChild(buttonGroup);\n",
       "            }\n",
       "            buttonGroup = document.createElement('div');\n",
       "            buttonGroup.classList = 'btn-group';\n",
       "            continue;\n",
       "        }\n",
       "\n",
       "        button = fig.buttons[name] = document.createElement('button');\n",
       "        button.classList = 'btn btn-default';\n",
       "        button.href = '#';\n",
       "        button.title = name;\n",
       "        button.innerHTML = '<i class=\"fa ' + image + ' fa-lg\"></i>';\n",
       "        button.addEventListener('click', on_click_closure(method_name));\n",
       "        button.addEventListener('mouseover', on_mouseover_closure(tooltip));\n",
       "        buttonGroup.appendChild(button);\n",
       "    }\n",
       "\n",
       "    if (buttonGroup.hasChildNodes()) {\n",
       "        toolbar.appendChild(buttonGroup);\n",
       "    }\n",
       "\n",
       "    // Add the status bar.\n",
       "    var status_bar = document.createElement('span');\n",
       "    status_bar.classList = 'mpl-message pull-right';\n",
       "    toolbar.appendChild(status_bar);\n",
       "    this.message = status_bar;\n",
       "\n",
       "    // Add the close button to the window.\n",
       "    var buttongrp = document.createElement('div');\n",
       "    buttongrp.classList = 'btn-group inline pull-right';\n",
       "    button = document.createElement('button');\n",
       "    button.classList = 'btn btn-mini btn-primary';\n",
       "    button.href = '#';\n",
       "    button.title = 'Stop Interaction';\n",
       "    button.innerHTML = '<i class=\"fa fa-power-off icon-remove icon-large\"></i>';\n",
       "    button.addEventListener('click', function (_evt) {\n",
       "        fig.handle_close(fig, {});\n",
       "    });\n",
       "    button.addEventListener(\n",
       "        'mouseover',\n",
       "        on_mouseover_closure('Stop Interaction')\n",
       "    );\n",
       "    buttongrp.appendChild(button);\n",
       "    var titlebar = this.root.querySelector('.ui-dialog-titlebar');\n",
       "    titlebar.insertBefore(buttongrp, titlebar.firstChild);\n",
       "};\n",
       "\n",
       "mpl.figure.prototype._remove_fig_handler = function (event) {\n",
       "    var fig = event.data.fig;\n",
       "    if (event.target !== this) {\n",
       "        // Ignore bubbled events from children.\n",
       "        return;\n",
       "    }\n",
       "    fig.close_ws(fig, {});\n",
       "};\n",
       "\n",
       "mpl.figure.prototype._root_extra_style = function (el) {\n",
       "    el.style.boxSizing = 'content-box'; // override notebook setting of border-box.\n",
       "};\n",
       "\n",
       "mpl.figure.prototype._canvas_extra_style = function (el) {\n",
       "    // this is important to make the div 'focusable\n",
       "    el.setAttribute('tabindex', 0);\n",
       "    // reach out to IPython and tell the keyboard manager to turn it's self\n",
       "    // off when our div gets focus\n",
       "\n",
       "    // location in version 3\n",
       "    if (IPython.notebook.keyboard_manager) {\n",
       "        IPython.notebook.keyboard_manager.register_events(el);\n",
       "    } else {\n",
       "        // location in version 2\n",
       "        IPython.keyboard_manager.register_events(el);\n",
       "    }\n",
       "};\n",
       "\n",
       "mpl.figure.prototype._key_event_extra = function (event, _name) {\n",
       "    var manager = IPython.notebook.keyboard_manager;\n",
       "    if (!manager) {\n",
       "        manager = IPython.keyboard_manager;\n",
       "    }\n",
       "\n",
       "    // Check for shift+enter\n",
       "    if (event.shiftKey && event.which === 13) {\n",
       "        this.canvas_div.blur();\n",
       "        // select the cell after this one\n",
       "        var index = IPython.notebook.find_cell_index(this.cell_info[0]);\n",
       "        IPython.notebook.select(index + 1);\n",
       "    }\n",
       "};\n",
       "\n",
       "mpl.figure.prototype.handle_save = function (fig, _msg) {\n",
       "    fig.ondownload(fig, null);\n",
       "};\n",
       "\n",
       "mpl.find_output_cell = function (html_output) {\n",
       "    // Return the cell and output element which can be found *uniquely* in the notebook.\n",
       "    // Note - this is a bit hacky, but it is done because the \"notebook_saving.Notebook\"\n",
       "    // IPython event is triggered only after the cells have been serialised, which for\n",
       "    // our purposes (turning an active figure into a static one), is too late.\n",
       "    var cells = IPython.notebook.get_cells();\n",
       "    var ncells = cells.length;\n",
       "    for (var i = 0; i < ncells; i++) {\n",
       "        var cell = cells[i];\n",
       "        if (cell.cell_type === 'code') {\n",
       "            for (var j = 0; j < cell.output_area.outputs.length; j++) {\n",
       "                var data = cell.output_area.outputs[j];\n",
       "                if (data.data) {\n",
       "                    // IPython >= 3 moved mimebundle to data attribute of output\n",
       "                    data = data.data;\n",
       "                }\n",
       "                if (data['text/html'] === html_output) {\n",
       "                    return [cell, data, j];\n",
       "                }\n",
       "            }\n",
       "        }\n",
       "    }\n",
       "};\n",
       "\n",
       "// Register the function which deals with the matplotlib target/channel.\n",
       "// The kernel may be null if the page has been refreshed.\n",
       "if (IPython.notebook.kernel !== null) {\n",
       "    IPython.notebook.kernel.comm_manager.register_target(\n",
       "        'matplotlib',\n",
       "        mpl.mpl_figure_comm\n",
       "    );\n",
       "}\n"
      ],
      "text/plain": [
       "<IPython.core.display.Javascript object>"
      ]
     },
     "metadata": {},
     "output_type": "display_data"
    },
    {
     "data": {
      "text/html": [
       "<img src=\"data:image/png;base64,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\" width=\"639.4666666666667\">"
      ],
      "text/plain": [
       "<IPython.core.display.HTML object>"
      ]
     },
     "metadata": {},
     "output_type": "display_data"
    },
    {
     "data": {
      "text/plain": [
       "[<matplotlib.lines.Line2D at 0x18d57a41b80>]"
      ]
     },
     "execution_count": 1,
     "metadata": {},
     "output_type": "execute_result"
    }
   ],
   "source": [
    "%matplotlib notebook\n",
    "import numpy as np\n",
    "import matplotlib.pyplot as plt\n",
    "\n",
    "# Generate a sequence of numbers from -10 to 10 with 100 steps in between\n",
    "x = np.linspace(-10, 10, 100)\n",
    "# Create a second array using sine\n",
    "y = np.sin(x)\n",
    "# The plot function makes a line chart of one array against another\n",
    "plt.plot(x, y, marker=\"x\")"
   ]
  },
  {
   "cell_type": "markdown",
   "metadata": {},
   "source": [
    "#### pandas"
   ]
  },
  {
   "cell_type": "code",
   "execution_count": 2,
   "metadata": {
    "uuid": "ad1b06f7-e03a-4938-9d59-5bb40e848553"
   },
   "outputs": [
    {
     "data": {
      "text/html": [
       "<div>\n",
       "<style scoped>\n",
       "    .dataframe tbody tr th:only-of-type {\n",
       "        vertical-align: middle;\n",
       "    }\n",
       "\n",
       "    .dataframe tbody tr th {\n",
       "        vertical-align: top;\n",
       "    }\n",
       "\n",
       "    .dataframe thead th {\n",
       "        text-align: right;\n",
       "    }\n",
       "</style>\n",
       "<table border=\"1\" class=\"dataframe\">\n",
       "  <thead>\n",
       "    <tr style=\"text-align: right;\">\n",
       "      <th></th>\n",
       "      <th>Name</th>\n",
       "      <th>Location</th>\n",
       "      <th>Age</th>\n",
       "    </tr>\n",
       "  </thead>\n",
       "  <tbody>\n",
       "    <tr>\n",
       "      <th>0</th>\n",
       "      <td>John</td>\n",
       "      <td>New York</td>\n",
       "      <td>24</td>\n",
       "    </tr>\n",
       "    <tr>\n",
       "      <th>1</th>\n",
       "      <td>Anna</td>\n",
       "      <td>Paris</td>\n",
       "      <td>13</td>\n",
       "    </tr>\n",
       "    <tr>\n",
       "      <th>2</th>\n",
       "      <td>Peter</td>\n",
       "      <td>Berlin</td>\n",
       "      <td>53</td>\n",
       "    </tr>\n",
       "    <tr>\n",
       "      <th>3</th>\n",
       "      <td>Linda</td>\n",
       "      <td>London</td>\n",
       "      <td>33</td>\n",
       "    </tr>\n",
       "  </tbody>\n",
       "</table>\n",
       "</div>"
      ],
      "text/plain": [
       "    Name  Location  Age\n",
       "0   John  New York   24\n",
       "1   Anna     Paris   13\n",
       "2  Peter    Berlin   53\n",
       "3  Linda    London   33"
      ]
     },
     "metadata": {},
     "output_type": "display_data"
    }
   ],
   "source": [
    "import pandas as pd\n",
    "\n",
    "# create a simple dataset of people\n",
    "data = {'Name': [\"John\", \"Anna\", \"Peter\", \"Linda\"],\n",
    "        'Location' : [\"New York\", \"Paris\", \"Berlin\", \"London\"],\n",
    "        'Age' : [24, 13, 53, 33]\n",
    "       }\n",
    "\n",
    "data_pandas = pd.DataFrame(data)\n",
    "# IPython.display allows \"pretty printing\" of dataframes\n",
    "# in the Jupyter notebook\n",
    "display(data_pandas)"
   ]
  },
  {
   "cell_type": "code",
   "execution_count": 8,
   "metadata": {},
   "outputs": [
    {
     "data": {
      "text/html": [
       "<div>\n",
       "<style scoped>\n",
       "    .dataframe tbody tr th:only-of-type {\n",
       "        vertical-align: middle;\n",
       "    }\n",
       "\n",
       "    .dataframe tbody tr th {\n",
       "        vertical-align: top;\n",
       "    }\n",
       "\n",
       "    .dataframe thead th {\n",
       "        text-align: right;\n",
       "    }\n",
       "</style>\n",
       "<table border=\"1\" class=\"dataframe\">\n",
       "  <thead>\n",
       "    <tr style=\"text-align: right;\">\n",
       "      <th></th>\n",
       "      <th>Name</th>\n",
       "      <th>Location</th>\n",
       "      <th>Age</th>\n",
       "    </tr>\n",
       "  </thead>\n",
       "  <tbody>\n",
       "    <tr>\n",
       "      <th>2</th>\n",
       "      <td>Peter</td>\n",
       "      <td>Berlin</td>\n",
       "      <td>53</td>\n",
       "    </tr>\n",
       "    <tr>\n",
       "      <th>3</th>\n",
       "      <td>Linda</td>\n",
       "      <td>London</td>\n",
       "      <td>33</td>\n",
       "    </tr>\n",
       "  </tbody>\n",
       "</table>\n",
       "</div>"
      ],
      "text/plain": [
       "    Name Location  Age\n",
       "2  Peter   Berlin   53\n",
       "3  Linda   London   33"
      ]
     },
     "metadata": {},
     "output_type": "display_data"
    }
   ],
   "source": [
    "# Select all rows that have an age column greater than 30\n",
    "display(data_pandas[data_pandas.Age > 30])"
   ]
  },
  {
   "cell_type": "markdown",
   "metadata": {},
   "source": [
    "#### mglearn"
   ]
  },
  {
   "cell_type": "markdown",
   "metadata": {},
   "source": [
    "### Python 2 versus Python 3"
   ]
  },
  {
   "cell_type": "markdown",
   "metadata": {},
   "source": [
    "### Versions Used in this Book"
   ]
  },
  {
   "cell_type": "code",
   "execution_count": 3,
   "metadata": {},
   "outputs": [
    {
     "name": "stdout",
     "output_type": "stream",
     "text": [
      "Python version: 3.8.8 (default, Apr 13 2021, 15:08:03) [MSC v.1916 64 bit (AMD64)]\n",
      "pandas version: 1.2.4\n",
      "matplotlib version: 3.3.4\n",
      "NumPy version: 1.20.1\n",
      "SciPy version: 1.6.2\n",
      "IPython version: 7.22.0\n",
      "scikit-learn version: 0.24.1\n"
     ]
    }
   ],
   "source": [
    "import sys\n",
    "print(\"Python version:\", sys.version)\n",
    "\n",
    "import pandas as pd\n",
    "print(\"pandas version:\", pd.__version__)\n",
    "\n",
    "import matplotlib\n",
    "print(\"matplotlib version:\", matplotlib.__version__)\n",
    "\n",
    "import numpy as np\n",
    "print(\"NumPy version:\", np.__version__)\n",
    "\n",
    "import scipy as sp\n",
    "print(\"SciPy version:\", sp.__version__)\n",
    "\n",
    "import IPython\n",
    "print(\"IPython version:\", IPython.__version__)\n",
    "\n",
    "import sklearn\n",
    "print(\"scikit-learn version:\", sklearn.__version__)"
   ]
  },
  {
   "cell_type": "markdown",
   "metadata": {},
   "source": [
    "### A First Application: Classifying Iris Species\n",
    "![sepal_petal](images/iris_petal_sepal.png)\n",
    "#### Meet the Data"
   ]
  },
  {
   "cell_type": "code",
   "execution_count": 7,
   "metadata": {
    "scrolled": true
   },
   "outputs": [],
   "source": [
    "from sklearn.datasets import load_iris\n",
    "iris_dataset = load_iris()"
   ]
  },
  {
   "cell_type": "code",
   "execution_count": 8,
   "metadata": {},
   "outputs": [
    {
     "name": "stdout",
     "output_type": "stream",
     "text": [
      "Keys of iris_dataset:\n",
      " dict_keys(['data', 'target', 'frame', 'target_names', 'DESCR', 'feature_names', 'filename'])\n"
     ]
    }
   ],
   "source": [
    "print(\"Keys of iris_dataset:\\n\", iris_dataset.keys())"
   ]
  },
  {
   "cell_type": "code",
   "execution_count": 9,
   "metadata": {
    "scrolled": true
   },
   "outputs": [
    {
     "name": "stdout",
     "output_type": "stream",
     "text": [
      ".. _iris_dataset:\n",
      "\n",
      "Iris plants dataset\n",
      "--------------------\n",
      "\n",
      "**Data Set Characteristics:**\n",
      "\n",
      "    :Number of Instances: 150 (50 in each of three classes)\n",
      "    :Number of Attributes: 4 numeric, pre\n",
      "...\n"
     ]
    }
   ],
   "source": [
    "print(iris_dataset['DESCR'][:193] + \"\\n...\")"
   ]
  },
  {
   "cell_type": "code",
   "execution_count": 13,
   "metadata": {},
   "outputs": [
    {
     "name": "stdout",
     "output_type": "stream",
     "text": [
      "Target names: ['setosa' 'versicolor' 'virginica']\n"
     ]
    }
   ],
   "source": [
    "print(\"Target names:\", iris_dataset['target_names'])"
   ]
  },
  {
   "cell_type": "code",
   "execution_count": 14,
   "metadata": {},
   "outputs": [
    {
     "name": "stdout",
     "output_type": "stream",
     "text": [
      "Feature names:\n",
      " ['sepal length (cm)', 'sepal width (cm)', 'petal length (cm)', 'petal width (cm)']\n"
     ]
    }
   ],
   "source": [
    "print(\"Feature names:\\n\", iris_dataset['feature_names'])"
   ]
  },
  {
   "cell_type": "code",
   "execution_count": 15,
   "metadata": {},
   "outputs": [
    {
     "name": "stdout",
     "output_type": "stream",
     "text": [
      "Type of data: <class 'numpy.ndarray'>\n"
     ]
    }
   ],
   "source": [
    "print(\"Type of data:\", type(iris_dataset['data']))"
   ]
  },
  {
   "cell_type": "code",
   "execution_count": 16,
   "metadata": {},
   "outputs": [
    {
     "name": "stdout",
     "output_type": "stream",
     "text": [
      "Shape of data: (150, 4)\n"
     ]
    }
   ],
   "source": [
    "print(\"Shape of data:\", iris_dataset['data'].shape)"
   ]
  },
  {
   "cell_type": "code",
   "execution_count": 17,
   "metadata": {},
   "outputs": [
    {
     "name": "stdout",
     "output_type": "stream",
     "text": [
      "First five rows of data:\n",
      " [[5.1 3.5 1.4 0.2]\n",
      " [4.9 3.  1.4 0.2]\n",
      " [4.7 3.2 1.3 0.2]\n",
      " [4.6 3.1 1.5 0.2]\n",
      " [5.  3.6 1.4 0.2]]\n"
     ]
    }
   ],
   "source": [
    "print(\"First five rows of data:\\n\", iris_dataset['data'][:5])"
   ]
  },
  {
   "cell_type": "code",
   "execution_count": 10,
   "metadata": {},
   "outputs": [
    {
     "name": "stdout",
     "output_type": "stream",
     "text": [
      "Type of target: <class 'numpy.ndarray'>\n"
     ]
    }
   ],
   "source": [
    "print(\"Type of target:\", type(iris_dataset['target']))"
   ]
  },
  {
   "cell_type": "code",
   "execution_count": 19,
   "metadata": {},
   "outputs": [
    {
     "name": "stdout",
     "output_type": "stream",
     "text": [
      "Shape of target: (150,)\n"
     ]
    }
   ],
   "source": [
    "print(\"Shape of target:\", iris_dataset['target'].shape)"
   ]
  },
  {
   "cell_type": "code",
   "execution_count": 11,
   "metadata": {},
   "outputs": [
    {
     "name": "stdout",
     "output_type": "stream",
     "text": [
      "Target:\n",
      " [0 0 0 0 0 0 0 0 0 0 0 0 0 0 0 0 0 0 0 0 0 0 0 0 0 0 0 0 0 0 0 0 0 0 0 0 0\n",
      " 0 0 0 0 0 0 0 0 0 0 0 0 0 1 1 1 1 1 1 1 1 1 1 1 1 1 1 1 1 1 1 1 1 1 1 1 1\n",
      " 1 1 1 1 1 1 1 1 1 1 1 1 1 1 1 1 1 1 1 1 1 1 1 1 1 1 2 2 2 2 2 2 2 2 2 2 2\n",
      " 2 2 2 2 2 2 2 2 2 2 2 2 2 2 2 2 2 2 2 2 2 2 2 2 2 2 2 2 2 2 2 2 2 2 2 2 2\n",
      " 2 2]\n"
     ]
    }
   ],
   "source": [
    "print(\"Target:\\n\", iris_dataset['target'])"
   ]
  },
  {
   "cell_type": "markdown",
   "metadata": {},
   "source": [
    "#### Measuring Success: Training and Testing Data"
   ]
  },
  {
   "cell_type": "code",
   "execution_count": 13,
   "metadata": {},
   "outputs": [],
   "source": [
    "from sklearn.model_selection import train_test_split\n",
    "X_train, X_test, y_train, y_test = train_test_split(\n",
    "    iris_dataset['data'], iris_dataset['target'], random_state=0)"
   ]
  },
  {
   "cell_type": "code",
   "execution_count": 14,
   "metadata": {},
   "outputs": [
    {
     "name": "stdout",
     "output_type": "stream",
     "text": [
      "X_train shape: (112, 4)\n",
      "y_train shape: (112,)\n"
     ]
    }
   ],
   "source": [
    "print(\"X_train shape:\", X_train.shape)\n",
    "print(\"y_train shape:\", y_train.shape)"
   ]
  },
  {
   "cell_type": "code",
   "execution_count": 23,
   "metadata": {},
   "outputs": [
    {
     "name": "stdout",
     "output_type": "stream",
     "text": [
      "X_test shape: (38, 4)\n",
      "y_test shape: (38,)\n"
     ]
    }
   ],
   "source": [
    "print(\"X_test shape:\", X_test.shape)\n",
    "print(\"y_test shape:\", y_test.shape)"
   ]
  },
  {
   "cell_type": "markdown",
   "metadata": {},
   "source": [
    "#### First Things First: Look at Your Data"
   ]
  },
  {
   "cell_type": "code",
   "execution_count": 17,
   "metadata": {},
   "outputs": [
    {
     "data": {
      "text/plain": [
       "array([[<AxesSubplot:xlabel='sepal length (cm)', ylabel='sepal length (cm)'>,\n",
       "        <AxesSubplot:xlabel='sepal width (cm)', ylabel='sepal length (cm)'>,\n",
       "        <AxesSubplot:xlabel='petal length (cm)', ylabel='sepal length (cm)'>,\n",
       "        <AxesSubplot:xlabel='petal width (cm)', ylabel='sepal length (cm)'>],\n",
       "       [<AxesSubplot:xlabel='sepal length (cm)', ylabel='sepal width (cm)'>,\n",
       "        <AxesSubplot:xlabel='sepal width (cm)', ylabel='sepal width (cm)'>,\n",
       "        <AxesSubplot:xlabel='petal length (cm)', ylabel='sepal width (cm)'>,\n",
       "        <AxesSubplot:xlabel='petal width (cm)', ylabel='sepal width (cm)'>],\n",
       "       [<AxesSubplot:xlabel='sepal length (cm)', ylabel='petal length (cm)'>,\n",
       "        <AxesSubplot:xlabel='sepal width (cm)', ylabel='petal length (cm)'>,\n",
       "        <AxesSubplot:xlabel='petal length (cm)', ylabel='petal length (cm)'>,\n",
       "        <AxesSubplot:xlabel='petal width (cm)', ylabel='petal length (cm)'>],\n",
       "       [<AxesSubplot:xlabel='sepal length (cm)', ylabel='petal width (cm)'>,\n",
       "        <AxesSubplot:xlabel='sepal width (cm)', ylabel='petal width (cm)'>,\n",
       "        <AxesSubplot:xlabel='petal length (cm)', ylabel='petal width (cm)'>,\n",
       "        <AxesSubplot:xlabel='petal width (cm)', ylabel='petal width (cm)'>]],\n",
       "      dtype=object)"
      ]
     },
     "execution_count": 17,
     "metadata": {},
     "output_type": "execute_result"
    },
    {
     "data": {
      "image/png": "[encoded data removed]",
      "text/plain": [
       "<Figure size 1080x1080 with 16 Axes>"
      ]
     },
     "metadata": {
      "needs_background": "light"
     },
     "output_type": "display_data"
    }
   ],
   "source": [
    "%matplotlib inline\n",
    "import mglearn\n",
    "# create dataframe from data in X_train\n",
    "# label the columns using the strings in iris_dataset.feature_names\n",
    "iris_dataframe = pd.DataFrame(X_train, columns=iris_dataset.feature_names)\n",
    "# create a scatter matrix from the dataframe, color by y_train\n",
    "pd.plotting.scatter_matrix(iris_dataframe, c=y_train, figsize=(15, 15),\n",
    "                           marker='o', hist_kwds={'bins': 20}, s=60,\n",
    "                           alpha=.8, cmap=mglearn.cm3)"
   ]
  },
  {
   "cell_type": "markdown",
   "metadata": {},
   "source": [
    "#### Building Your First Model: k-Nearest Neighbors"
   ]
  },
  {
   "cell_type": "code",
   "execution_count": 25,
   "metadata": {},
   "outputs": [],
   "source": [
    "from sklearn.neighbors import KNeighborsClassifier\n",
    "knn = KNeighborsClassifier(n_neighbors=1)"
   ]
  },
  {
   "cell_type": "code",
   "execution_count": 26,
   "metadata": {},
   "outputs": [
    {
     "data": {
      "text/plain": [
       "KNeighborsClassifier(n_neighbors=1)"
      ]
     },
     "execution_count": 26,
     "metadata": {},
     "output_type": "execute_result"
    }
   ],
   "source": [
    "knn.fit(X_train, y_train)"
   ]
  },
  {
   "cell_type": "markdown",
   "metadata": {},
   "source": [
    "#### Making Predictions"
   ]
  },
  {
   "cell_type": "code",
   "execution_count": 27,
   "metadata": {},
   "outputs": [
    {
     "name": "stdout",
     "output_type": "stream",
     "text": [
      "X_new.shape: (1, 4)\n"
     ]
    }
   ],
   "source": [
    "X_new = np.array([[5, 2.9, 1, 0.2]])\n",
    "print(\"X_new.shape:\", X_new.shape)"
   ]
  },
  {
   "cell_type": "code",
   "execution_count": 28,
   "metadata": {},
   "outputs": [
    {
     "name": "stdout",
     "output_type": "stream",
     "text": [
      "Prediction: [0]\n",
      "Predicted target name: ['setosa']\n"
     ]
    }
   ],
   "source": [
    "prediction = knn.predict(X_new)\n",
    "print(\"Prediction:\", prediction)\n",
    "print(\"Predicted target name:\",\n",
    "       iris_dataset['target_names'][prediction])"
   ]
  },
  {
   "cell_type": "markdown",
   "metadata": {},
   "source": [
    "#### Evaluating the Model"
   ]
  },
  {
   "cell_type": "code",
   "execution_count": 29,
   "metadata": {},
   "outputs": [
    {
     "name": "stdout",
     "output_type": "stream",
     "text": [
      "Test set predictions:\n",
      " [2 1 0 2 0 2 0 1 1 1 2 1 1 1 1 0 1 1 0 0 2 1 0 0 2 0 0 1 1 0 2 1 0 2 2 1 0\n",
      " 2]\n"
     ]
    }
   ],
   "source": [
    "y_pred = knn.predict(X_test)\n",
    "print(\"Test set predictions:\\n\", y_pred)"
   ]
  },
  {
   "cell_type": "code",
   "execution_count": 30,
   "metadata": {},
   "outputs": [
    {
     "name": "stdout",
     "output_type": "stream",
     "text": [
      "Test set score: 0.97\n"
     ]
    }
   ],
   "source": [
    "print(\"Test set score: {:.2f}\".format(np.mean(y_pred == y_test)))"
   ]
  },
  {
   "cell_type": "code",
   "execution_count": 31,
   "metadata": {},
   "outputs": [
    {
     "name": "stdout",
     "output_type": "stream",
     "text": [
      "Test set score: 0.97\n"
     ]
    }
   ],
   "source": [
    "print(\"Test set score: {:.2f}\".format(knn.score(X_test, y_test)))"
   ]
  },
  {
   "cell_type": "markdown",
   "metadata": {},
   "source": [
    "### Summary and Outlook"
   ]
  },
  {
   "cell_type": "code",
   "execution_count": 32,
   "metadata": {},
   "outputs": [
    {
     "name": "stdout",
     "output_type": "stream",
     "text": [
      "Test set score: 0.97\n"
     ]
    }
   ],
   "source": [
    "X_train, X_test, y_train, y_test = train_test_split(\n",
    "    iris_dataset['data'], iris_dataset['target'], random_state=0)\n",
    "\n",
    "knn = KNeighborsClassifier(n_neighbors=1)\n",
    "knn.fit(X_train, y_train)\n",
    "\n",
    "print(\"Test set score: {:.2f}\".format(knn.score(X_test, y_test)))"
   ]
  }
 ],
 "metadata": {
  "anaconda-cloud": {},
  "kernelspec": {
   "display_name": "Python 3",
   "language": "python",
   "name": "python3"
  },
  "language_info": {
   "codemirror_mode": {
    "name": "ipython",
    "version": 3
   },
   "file_extension": ".py",
   "mimetype": "text/x-python",
   "name": "python",
   "nbconvert_exporter": "python",
   "pygments_lexer": "ipython3",
   "version": "3.8.8"
  }
 },
 "nbformat": 4,
 "nbformat_minor": 4
}
